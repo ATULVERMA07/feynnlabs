{
 "cells": [
  {
   "cell_type": "markdown",
   "id": "eec060b5",
   "metadata": {},
   "source": [
    "# <center> FeyNN Labs </center>\n",
    "## <center> Macdonald Analysis </center>\n",
    "## <center> Case Study of Macdonalds </center>"
   ]
  },
  {
   "cell_type": "markdown",
   "id": "46c11ea6",
   "metadata": {},
   "source": [
    "## Purpose\n",
    "For this case study, imagine that you are McDonald’s, and you would want\n",
    "to know if consumer segments exist that have a distinctly different image of\n",
    "McDonald’s. In this case,we want to understand the key drivers of the negative perception, and modify them."
   ]
  },
  {
   "cell_type": "markdown",
   "id": "27f0f421",
   "metadata": {},
   "source": [
    "## IMPORTING REQUIRES LIBRARIES"
   ]
  },
  {
   "cell_type": "code",
   "execution_count": 98,
   "id": "cac1b47c",
   "metadata": {},
   "outputs": [
    {
     "name": "stdout",
     "output_type": "stream",
     "text": [
      "Note: you may need to restart the kernel to use updated packages.\n"
     ]
    },
    {
     "name": "stderr",
     "output_type": "stream",
     "text": [
      "ERROR: Could not find a version that satisfies the requirement flexclust (from versions: none)\n",
      "ERROR: No matching distribution found for flexclust\n"
     ]
    }
   ],
   "source": [
    "pip install flexclust"
   ]
  },
  {
   "cell_type": "code",
   "execution_count": 177,
   "id": "41311db7",
   "metadata": {},
   "outputs": [],
   "source": [
    "import numpy as np\n",
    "import pandas as pd\n",
    "from sklearn.decomposition import PCA\n",
    "from sklearn.preprocessing import LabelEncoder\n",
    "import matplotlib.pyplot as plt\n",
    "from sklearn.cluster import KMeans\n",
    "from sklearn.utils import resample\n",
    "from sklearn.metrics import adjusted_rand_score\n",
    "from sklearn.metrics import pairwise_distances\n",
    "\n",
    "from sklearn.mixture import GaussianMixture\n",
    "from sklearn.metrics import confusion_matrix\n",
    "\n",
    "import seaborn as sns\n",
    "#from flexclust import stepFlexclust, relabel"
   ]
  },
  {
   "cell_type": "markdown",
   "id": "060b6c8e",
   "metadata": {},
   "source": [
    "## Step 4: Exploring Data"
   ]
  },
  {
   "cell_type": "code",
   "execution_count": 151,
   "id": "78d74e92",
   "metadata": {},
   "outputs": [],
   "source": [
    "macdo = pd.read_csv(r\"C:\\Users\\verma\\Downloads\\Internship\\Fennylab\\Task 1\\mcdonalds datasets.csv\")\n"
   ]
  },
  {
   "cell_type": "code",
   "execution_count": 152,
   "id": "201c1e38",
   "metadata": {},
   "outputs": [
    {
     "data": {
      "text/plain": [
       "Index(['Unnamed: 0', 'yummy', 'convenient', 'spicy', 'fattening', 'greasy',\n",
       "       'fast', 'cheap', 'tasty', 'expensive', 'healthy', 'disgusting', 'Like',\n",
       "       'Age', 'VisitFrequency', 'Gender'],\n",
       "      dtype='object')"
      ]
     },
     "execution_count": 152,
     "metadata": {},
     "output_type": "execute_result"
    }
   ],
   "source": [
    "# reading columns name of datasets\n",
    "macdo.columns"
   ]
  },
  {
   "cell_type": "code",
   "execution_count": 153,
   "id": "a4e765ef",
   "metadata": {},
   "outputs": [
    {
     "name": "stdout",
     "output_type": "stream",
     "text": [
      "Shape Size of datasets is : (1453, 16)\n"
     ]
    }
   ],
   "source": [
    "# shape size of datasats\n",
    "print(f'Shape Size of datasets is : {macdo.shape}')"
   ]
  },
  {
   "cell_type": "code",
   "execution_count": null,
   "id": "42e6867c",
   "metadata": {},
   "outputs": [],
   "source": []
  },
  {
   "cell_type": "code",
   "execution_count": 157,
   "id": "03ccabe5",
   "metadata": {},
   "outputs": [
    {
     "name": "stdout",
     "output_type": "stream",
     "text": [
      "Here 1 represent as yes and 0 as No. \n",
      "{'yummy': 1    0.55\n",
      "0    0.45\n",
      "Name: yummy, dtype: float64, 'convenient': 1    0.91\n",
      "0    0.09\n",
      "Name: convenient, dtype: float64, 'spicy': 0    0.91\n",
      "1    0.09\n",
      "Name: spicy, dtype: float64, 'fattening': 1    0.87\n",
      "0    0.13\n",
      "Name: fattening, dtype: float64, 'greasy': 1    0.53\n",
      "0    0.47\n",
      "Name: greasy, dtype: float64, 'fast': 1    0.9\n",
      "0    0.1\n",
      "Name: fast, dtype: float64, 'cheap': 1    0.6\n",
      "0    0.4\n",
      "Name: cheap, dtype: float64, 'tasty': 1    0.64\n",
      "0    0.36\n",
      "Name: tasty, dtype: float64, 'expensive': 0    0.64\n",
      "1    0.36\n",
      "Name: expensive, dtype: float64, 'healthy': 0    0.8\n",
      "1    0.2\n",
      "Name: healthy, dtype: float64, 'disgusting': 0    0.76\n",
      "1    0.24\n",
      "Name: disgusting, dtype: float64}\n"
     ]
    }
   ],
   "source": [
    "# To see how much positive values we have in each columns\n",
    "mat = macdo.iloc[:,1:12]\n",
    "le = LabelEncoder()\n",
    "\n",
    "dic = {}\n",
    "for i in mat:\n",
    "    mat[i] = le.fit_transform(mat[i])\n",
    "    dic[i] = round(mat[i].value_counts(normalize = 'yes'),2)\n",
    "\n",
    "print(f\"Here 1 represent as yes and 0 as No. \\n{dic}\")    "
   ]
  },
  {
   "cell_type": "markdown",
   "id": "8bec9d92",
   "metadata": {},
   "source": [
    "***COMMENT:-***\n",
    "* The average values of the transformed binary numeric segmentation variables indicate that about half of the respondents (55%) perceive McDonald’s as YUMMY,91% believe that eating at McDonald’s is CONVENIENT, but only 9% think that McDonald’s food is SPICY."
   ]
  },
  {
   "cell_type": "markdown",
   "id": "0ed71d41",
   "metadata": {},
   "source": [
    " ### Principal Componenets Analysis"
   ]
  },
  {
   "cell_type": "markdown",
   "id": "c72b29d3",
   "metadata": {},
   "source": [
    "* Principal Component Analysis is basically a statistical procedure to convert a set of observations of possibly correlated variables into a set of values of linearly uncorrelated variables. \n",
    "* Another way of exploring data initially is to compute a principal components analysis, and create a perceptual map.\n",
    "* A perceptual map offers initial insights into how attributes are rated by respondents and, importantly, which attributes tend to be rated in the same way.\n",
    "* Principal components analysis is not computed to reduce the number of variables. \n",
    "* This approach – also referred to as factor-cluster analysis – is inferior to clustering raw data in most instances.\n",
    "* We use unstandardised data because our segmentation variables are all binary"
   ]
  },
  {
   "cell_type": "code",
   "execution_count": 158,
   "id": "0b3ad1c2",
   "metadata": {
    "scrolled": true
   },
   "outputs": [
    {
     "name": "stdout",
     "output_type": "stream",
     "text": [
      "PC1:\n",
      "Standard deviation 0.75705\n",
      "Proportion of Variance 0.29945\n",
      "Cumulative Proportion 0.29945\n",
      "\n",
      "PC2:\n",
      "Standard deviation 0.60746\n",
      "Proportion of Variance 0.19280\n",
      "Cumulative Proportion 0.49224\n",
      "\n",
      "PC3:\n",
      "Standard deviation 0.50462\n",
      "Proportion of Variance 0.13305\n",
      "Cumulative Proportion 0.62529\n",
      "\n",
      "PC4:\n",
      "Standard deviation 0.39880\n",
      "Proportion of Variance 0.08310\n",
      "Cumulative Proportion 0.70839\n",
      "\n",
      "PC5:\n",
      "Standard deviation 0.33741\n",
      "Proportion of Variance 0.05948\n",
      "Cumulative Proportion 0.76787\n",
      "\n",
      "PC6:\n",
      "Standard deviation 0.31027\n",
      "Proportion of Variance 0.05030\n",
      "Cumulative Proportion 0.81817\n",
      "\n",
      "PC7:\n",
      "Standard deviation 0.28970\n",
      "Proportion of Variance 0.04385\n",
      "Cumulative Proportion 0.86201\n",
      "\n",
      "PC8:\n",
      "Standard deviation 0.27512\n",
      "Proportion of Variance 0.03955\n",
      "Cumulative Proportion 0.90156\n",
      "\n",
      "PC9:\n",
      "Standard deviation 0.26525\n",
      "Proportion of Variance 0.03676\n",
      "Cumulative Proportion 0.93832\n",
      "\n",
      "PC10:\n",
      "Standard deviation 0.24884\n",
      "Proportion of Variance 0.03235\n",
      "Cumulative Proportion 0.97068\n",
      "\n",
      "PC11:\n",
      "Standard deviation 0.23690\n",
      "Proportion of Variance 0.02932\n",
      "Cumulative Proportion 1.00000\n",
      "\n"
     ]
    }
   ],
   "source": [
    "# Perform PCA\n",
    "pca = PCA()\n",
    "MD_pca = pca.fit_transform(mat)\n",
    "\n",
    "# Get the summary\n",
    "summary = {\n",
    "    'Standard deviation': np.sqrt(pca.explained_variance_),\n",
    "    'Proportion of Variance': pca.explained_variance_ratio_,\n",
    "    'Cumulative Proportion': np.cumsum(pca.explained_variance_ratio_)\n",
    "}\n",
    "\n",
    "# Print the summary\n",
    "for i, (std_dev, prop_var, cum_var) in enumerate(zip(summary['Standard deviation'], summary['Proportion of Variance'], summary['Cumulative Proportion']), start=1):\n",
    "    print(f'PC{i}:')\n",
    "    print(f'Standard deviation {std_dev:.5f}')\n",
    "    print(f'Proportion of Variance {prop_var:.5f}')\n",
    "    print(f'Cumulative Proportion {cum_var:.5f}')\n",
    "    print()"
   ]
  },
  {
   "cell_type": "markdown",
   "id": "1e2214e0",
   "metadata": {},
   "source": [
    "***COMMENT:-*** \n",
    "* Results from principal components analysis indicate that the first two components capture about 50% of the information contained in the segmentation variables."
   ]
  },
  {
   "cell_type": "code",
   "execution_count": 159,
   "id": "9e6495ed",
   "metadata": {},
   "outputs": [
    {
     "name": "stdout",
     "output_type": "stream",
     "text": [
      "Standard deviations:\n",
      "[0.57312398 0.36900226 0.2546408  0.15904032 0.11384214 0.09627033\n",
      " 0.08392454 0.07569209 0.07035814 0.06192225 0.05612296]\n",
      "\n",
      "Rotation (n x k) = (11 x 11):\n",
      "\n",
      "[[-0.47693349 -0.15533159 -0.00635636  0.11623168  0.3044427  -0.10849325\n",
      "  -0.33718593 -0.47151394  0.32904173 -0.21371062  0.37475293]\n",
      " [ 0.36378978  0.016414    0.01880869 -0.03409395 -0.06383884 -0.0869722\n",
      "  -0.61063276  0.3073178   0.60128596  0.07659344 -0.13965633]\n",
      " [-0.30444402 -0.0625153  -0.03701866 -0.32235949 -0.80237317 -0.06464172\n",
      "  -0.14931026 -0.28726479  0.02439661  0.19205128 -0.08857138]\n",
      " [ 0.0551622  -0.14242496  0.19761927 -0.35413876  0.2539601  -0.09736269\n",
      "   0.11895823 -0.00254696  0.06781599  0.76348804  0.36953871]\n",
      " [-0.30753507  0.27760805  0.07062017 -0.07340475  0.36139895  0.10793025\n",
      "  -0.12897259 -0.21089912 -0.00312457  0.28784553 -0.72920859]\n",
      " [ 0.17073819 -0.34783006 -0.3550866  -0.40651542  0.20934711 -0.59463206\n",
      "  -0.10324067 -0.07691443 -0.26134151 -0.17822612 -0.21087805]\n",
      " [-0.28051863 -0.05973793  0.70763705 -0.38594277  0.03616962 -0.08684577\n",
      "  -0.04044934  0.36045348 -0.06838452 -0.34961569 -0.02679159]\n",
      " [ 0.01304117 -0.11307868  0.37593402  0.58962241 -0.13824084 -0.62779877\n",
      "   0.14006047 -0.07279193  0.02953939  0.17630281 -0.16718101]\n",
      " [ 0.57240278 -0.01846534  0.40027977 -0.16051227 -0.00284738  0.16619659\n",
      "   0.07606907 -0.63908592  0.06699639 -0.1855722  -0.07248255]\n",
      " [-0.11028437 -0.66581756 -0.07563413 -0.00533813  0.00870725  0.23953197\n",
      "   0.42808739  0.0791838   0.45439925 -0.03811713 -0.28959188]\n",
      " [ 0.04543901 -0.54161635  0.14172992  0.25090987  0.00164229  0.33926454\n",
      "  -0.48928285  0.01955226 -0.49006853  0.15760765 -0.04066227]]\n"
     ]
    }
   ],
   "source": [
    "# Print the standard deviations\n",
    "print(\"Standard deviations:\")\n",
    "print(pca.explained_variance_)\n",
    "\n",
    "# Print the rotation matrix\n",
    "print(\"\\nRotation (n x k) = (11 x 11):\\n\")\n",
    "print(pca.components_)"
   ]
  },
  {
   "cell_type": "code",
   "execution_count": 160,
   "id": "d677af1f",
   "metadata": {},
   "outputs": [
    {
     "data": {
      "image/png": "[encoded data removed]",
      "text/plain": [
       "<Figure size 432x288 with 1 Axes>"
      ]
     },
     "metadata": {
      "needs_background": "light"
     },
     "output_type": "display_data"
    }
   ],
   "source": [
    "# Plot the projected data\n",
    "plt.scatter(MD_pca[:, 0], MD_pca[:, 1], color='grey')\n",
    "\n",
    "# Get the loadings (rotation matrix)\n",
    "loadings = pca.components_.T\n",
    "\n",
    "# Plot the rotated and projected original variables as arrows\n",
    "for i, (x, y) in enumerate(zip(loadings[:, 0], loadings[:, 1])):\n",
    "    plt.arrow(0, 0, x, y, color='red', alpha=0.8)\n",
    "    plt.text(x, y, mat.columns[i], color='black', ha='center', va='center')\n",
    "\n",
    "# Set aspect ratio to 'equal' for better visualization\n",
    "plt.gca().set_aspect('equal', adjustable='box')\n",
    "\n",
    "# Show the plot\n",
    "plt.show()"
   ]
  },
  {
   "cell_type": "markdown",
   "id": "f103c32d",
   "metadata": {},
   "source": [
    "***COMMENT:-***\n",
    "* The attributes CHEAP and EXPENSIVE play a key role in the evaluation of McDonald’s, and these two attributes are assessed quite independently of the others.\n",
    "* These initial exploratory insights represent valuable information for segment extraction. Results indicate that some attributes are strongly related to one another, and that the price dimension may be critical in differentiating between groups of consumers."
   ]
  },
  {
   "cell_type": "markdown",
   "id": "18c6b233",
   "metadata": {},
   "source": [
    "## Step 5: Extracting Segments\n",
    "\n",
    "To illustrate a range of extraction techniques, we subdivide this step into three sections. \n",
    "* In the first section, we will use standard k-means analysis. \n",
    "* In the second section, we will use finite mixtures of binary distributions. \n",
    "* In the third section, we will use finite mixtures of regressions."
   ]
  },
  {
   "cell_type": "markdown",
   "id": "af23559e",
   "metadata": {},
   "source": [
    "### 5.1 Using K-Means"
   ]
  },
  {
   "cell_type": "code",
   "execution_count": 164,
   "id": "083dd368",
   "metadata": {},
   "outputs": [
    {
     "data": {
      "image/png": "[encoded data removed]",
      "text/plain": [
       "<Figure size 432x288 with 1 Axes>"
      ]
     },
     "metadata": {
      "needs_background": "light"
     },
     "output_type": "display_data"
    },
    {
     "data": {
      "image/png": "[encoded data removed]",
      "text/plain": [
       "<Figure size 432x288 with 1 Axes>"
      ]
     },
     "metadata": {
      "needs_background": "light"
     },
     "output_type": "display_data"
    }
   ],
   "source": [
    "import numpy as np\n",
    "import matplotlib.pyplot as plt\n",
    "from sklearn.cluster import KMeans\n",
    "from sklearn.metrics import adjusted_rand_score\n",
    "\n",
    "# Set the random seed\n",
    "np.random.seed(1234)\n",
    "\n",
    "# Assuming mat is your data matrix\n",
    "\n",
    "# Define the range of segment numbers\n",
    "segment_range = range(2, 9)\n",
    "\n",
    "# Perform K-means clustering with multiple random initializations\n",
    "MD_kms = []\n",
    "inertia_scores = []\n",
    "for n_segments in segment_range:\n",
    "    kmeans = KMeans(n_clusters=n_segments, n_init=10)\n",
    "    labels = kmeans.fit_predict(mat)\n",
    "    MD_kms.append(labels)\n",
    "    distances = pairwise_distances(mat, kmeans.cluster_centers_)\n",
    "    inertia = np.sum(distances[np.arange(len(mat)), labels] ** 2)\n",
    "    inertia_scores.append(inertia)\n",
    "\n",
    "# Relabel segment numbers to ensure consistency across segmentations\n",
    "for i in range(1, len(MD_kms)):\n",
    "    prev_labels = MD_kms[i-1]\n",
    "    current_labels = MD_kms[i]\n",
    "    unique_labels = np.unique(current_labels)\n",
    "    relabeled_labels = np.zeros_like(current_labels)\n",
    "    for j in range(len(unique_labels)):\n",
    "        mask = current_labels == unique_labels[j]\n",
    "        relabeled_labels[mask] = np.argmax(np.bincount(prev_labels[mask]))\n",
    "    MD_kms[i] = relabeled_labels\n",
    "\n",
    "# Create the scree plot\n",
    "plt.plot(segment_range, inertia_scores, marker='o')\n",
    "plt.xlabel('Number of segments')\n",
    "plt.ylabel('Sum of Squared Distances')\n",
    "plt.title('Scree Plot')\n",
    "plt.show()\n",
    "\n",
    "# Perform bootstrapping and calculate stability scores\n",
    "nrep = 10  # Number of random initializations\n",
    "nboot = 100  # Number of bootstrap samples\n",
    "stability_scores = []\n",
    "\n",
    "for n_segments in segment_range:\n",
    "    scores = []\n",
    "    for _ in range(nboot):\n",
    "        bootstrap_sample = resample(mat, random_state=np.random.randint(1000))\n",
    "        kmeans = KMeans(n_clusters=n_segments, n_init=nrep)\n",
    "        labels = kmeans.fit_predict(bootstrap_sample)\n",
    "        score = adjusted_rand_score(MD_kms[n_segments-2], labels)  # Use the relabeled labels from previous step\n",
    "        scores.append(score)\n",
    "    stability_scores.append(scores)\n",
    "\n",
    "# Plot the global stability boxplot\n",
    "plt.boxplot(stability_scores, labels=segment_range)\n",
    "plt.xlabel('Number of segments')\n",
    "plt.ylabel('Adjusted Rand index')\n",
    "plt.title('Global Stability Boxplot')\n",
    "plt.show()\n"
   ]
  },
  {
   "cell_type": "markdown",
   "id": "51cd285f",
   "metadata": {},
   "source": [
    "***COMMENT:-***\n",
    "* The scree plot in Fig. A.2 has no distinct elbow: the sum of distances within market segments drops slowly as the number of market segments increases. We expect the values to decrease because more market segments automatically mean that the segments are smaller But the much anticipated point where the sum of distances drops dramatically is not visible. This scree plot does not provide useful guidance on the number of market segments to extract.\n",
    "* A second approach to determining a good number of segments is to use stability-based data structure analysis. Stability-based data structure analysis also indicates whether market segments occur naturally in the data, or if they have to be artificially constructed.\n",
    "* Global stability is the extent to which the same segmentation solution emerges if the analysis is repeated many times using bootstrap samples (randomly drawn subsets) of the data."
   ]
  },
  {
   "cell_type": "code",
   "execution_count": 134,
   "id": "a8fc86e0",
   "metadata": {},
   "outputs": [
    {
     "data": {
      "image/png": "[encoded data removed]",
      "text/plain": [
       "<Figure size 432x288 with 1 Axes>"
      ]
     },
     "metadata": {
      "needs_background": "light"
     },
     "output_type": "display_data"
    }
   ],
   "source": [
    "# Extract the data for the \"4\" segment\n",
    "segment_index = 3  # Index corresponding to the \"4\" segment (0-indexed)\n",
    "segment_4_data = MD_kms[segment_index]\n",
    "\n",
    "# Set the x-axis limits\n",
    "xlim = (0, 1)\n",
    "\n",
    "# Create the histogram\n",
    "plt.hist(segment_4_data, bins=10, range=xlim)\n",
    "plt.xlabel('Values')\n",
    "plt.ylabel('Frequency')\n",
    "plt.title('Histogram of Segment 4')\n",
    "plt.xlim(xlim)\n",
    "plt.show()"
   ]
  },
  {
   "cell_type": "code",
   "execution_count": 135,
   "id": "72c4bd91",
   "metadata": {},
   "outputs": [
    {
     "data": {
      "image/png": "[encoded data removed]",
      "text/plain": [
       "<Figure size 432x288 with 1 Axes>"
      ]
     },
     "metadata": {
      "needs_background": "light"
     },
     "output_type": "display_data"
    }
   ],
   "source": [
    "# Set the random seed\n",
    "np.random.seed(1234)\n",
    "\n",
    "# Assuming MD.x is your data matrix\n",
    "\n",
    "# Define the number of segments\n",
    "n_segments = 4\n",
    "\n",
    "# Perform bootstrapping and calculate segment level stability\n",
    "nrep = 10  # Number of random initializations\n",
    "nboot = 100  # Number of bootstrap samples\n",
    "segment_stability = []\n",
    "\n",
    "for segment_number in range(n_segments):\n",
    "    segment_scores = []\n",
    "    for _ in range(nboot):\n",
    "        bootstrap_sample = resample(mat, random_state=np.random.randint(1000))\n",
    "        kmeans = KMeans(n_clusters=n_segments, n_init=nrep)\n",
    "        labels = kmeans.fit_predict(bootstrap_sample)\n",
    "        segment_labels = labels == segment_number\n",
    "        segment_score = adjusted_rand_score(segment_labels, kmeans.labels_ == segment_number)\n",
    "        segment_scores.append(segment_score)\n",
    "    segment_stability.append(segment_scores)\n",
    "\n",
    "# Plot the segment level stability\n",
    "plt.boxplot(segment_stability, labels=range(1, n_segments+1))\n",
    "plt.xlabel('Segment Number')\n",
    "plt.ylabel('Segment Stability')\n",
    "plt.ylim(0, 1)\n",
    "plt.title('Segment Level Stability within Solutions')\n",
    "plt.show()"
   ]
  },
  {
   "cell_type": "code",
   "execution_count": null,
   "id": "b8fb66e2",
   "metadata": {},
   "outputs": [],
   "source": []
  },
  {
   "cell_type": "markdown",
   "id": "41d1e8a5",
   "metadata": {},
   "source": [
    "### 5.2 Using Mixtures of Distributions"
   ]
  },
  {
   "cell_type": "code",
   "execution_count": 141,
   "id": "cb1d3f99",
   "metadata": {},
   "outputs": [
    {
     "name": "stdout",
     "output_type": "stream",
     "text": [
      "Segment Number: 2\n",
      "Log-Likelihood: 6.8019599403896205\n",
      "AIC: -19676.49558677224\n",
      "BIC: -19438.833231911576\n",
      "ICL: 17751.906338382003\n",
      "\n",
      "Segment Number: 3\n",
      "Log-Likelihood: 9.983255202832801\n",
      "AIC: -28875.33961943212\n",
      "BIC: -28516.20539430934\n",
      "ICL: 38658.07199702415\n",
      "\n",
      "Segment Number: 4\n",
      "Log-Likelihood: 12.45750549563597\n",
      "AIC: -36019.51097031813\n",
      "BIC: -35538.904874933236\n",
      "ICL: 63341.66474206191\n",
      "\n",
      "Segment Number: 5\n",
      "Log-Likelihood: 12.537150794390337\n",
      "AIC: -36204.96020849832\n",
      "BIC: -35602.88224285131\n",
      "ICL: 77802.54348275892\n",
      "\n",
      "Segment Number: 6\n",
      "Log-Likelihood: 16.516045929177636\n",
      "AIC: -47721.62947019021\n",
      "BIC: -46998.07963428108\n",
      "ICL: 126177.54736252382\n",
      "\n",
      "Segment Number: 7\n",
      "Log-Likelihood: 19.619461252638995\n",
      "AIC: -56694.15440016892\n",
      "BIC: -55849.13269399767\n",
      "ICL: 177338.27821061187\n",
      "\n",
      "Segment Number: 8\n",
      "Log-Likelihood: 19.816776887060755\n",
      "AIC: -57221.553633798554\n",
      "BIC: -56255.06005736519\n",
      "ICL: 202709.85701342323\n",
      "\n"
     ]
    }
   ],
   "source": [
    "import numpy as np\n",
    "from sklearn.mixture import GaussianMixture\n",
    "\n",
    "# Set the random seed\n",
    "np.random.seed(1234)\n",
    "\n",
    "# Assuming MD.x is your data matrix\n",
    "\n",
    "# Define the range of segment numbers\n",
    "k_range = range(2, 9)\n",
    "\n",
    "# Perform latent class analysis for different segment numbers\n",
    "models = []\n",
    "log_likelihoods = []\n",
    "AICs = []\n",
    "BICs = []\n",
    "ICLs = []\n",
    "\n",
    "for k in k_range:\n",
    "    model = GaussianMixture(n_components=k, covariance_type='diag', n_init=10, random_state=1234)\n",
    "    model.fit(mat)\n",
    "    \n",
    "    models.append(model)\n",
    "    log_likelihoods.append(model.score_samples(mat))\n",
    "    AICs.append(model.aic(mat))\n",
    "    BICs.append(model.bic(mat))\n",
    "    \n",
    "    # Calculate ICL manually\n",
    "    weighted_log_likelihoods = model.score_samples(mat) + np.log(model.weights_.reshape(-1, 1))\n",
    "    ICL = np.sum(weighted_log_likelihoods)\n",
    "    ICLs.append(ICL)\n",
    "\n",
    "# Print the results\n",
    "for k, log_likelihood, AIC, BIC, ICL in zip(k_range, log_likelihoods, AICs, BICs, ICLs):\n",
    "    print(f\"Segment Number: {k}\")\n",
    "    print(f\"Log-Likelihood: {np.mean(log_likelihood)}\")\n",
    "    print(f\"AIC: {AIC}\")\n",
    "    print(f\"BIC: {BIC}\")\n",
    "    print(f\"ICL: {ICL}\")\n",
    "    print()\n"
   ]
  },
  {
   "cell_type": "code",
   "execution_count": 144,
   "id": "c57adf44",
   "metadata": {},
   "outputs": [
    {
     "data": {
      "image/png": "[encoded data removed]",
      "text/plain": [
       "<Figure size 432x288 with 1 Axes>"
      ]
     },
     "metadata": {
      "needs_background": "light"
     },
     "output_type": "display_data"
    }
   ],
   "source": [
    "import matplotlib.pyplot as plt\n",
    "\n",
    "# Assuming MD.m28 is your fitted flexmix model\n",
    "\n",
    "\n",
    "# Define the segment numbers\n",
    "segment_numbers = range(2, 9)\n",
    "\n",
    "# Plot the information criteria\n",
    "plt.plot(segment_numbers, AICs, label='AIC')\n",
    "plt.plot(segment_numbers, BICs, label='BIC')\n",
    "plt.plot(segment_numbers, ICLs, label='ICL')\n",
    "\n",
    "# Set labels and title\n",
    "plt.xlabel('Number of segments')\n",
    "plt.ylabel('Value of Information Criteria')\n",
    "plt.title('Information Criteria Plot')\n",
    "\n",
    "# Add legend\n",
    "plt.legend()\n",
    "\n",
    "# Show the plot\n",
    "plt.show()\n"
   ]
  },
  {
   "cell_type": "code",
   "execution_count": 179,
   "id": "a8b4c34e",
   "metadata": {},
   "outputs": [
    {
     "name": "stdout",
     "output_type": "stream",
     "text": [
      "[[  0   0   0   0]\n",
      " [  0   0   0   0]\n",
      " [  0   0   0   0]\n",
      " [137  56  45  77]]\n"
     ]
    }
   ],
   "source": [
    "\n",
    "\n",
    "# Set the random seed\n",
    "np.random.seed(1234)\n",
    "\n",
    "# Assuming MD.x is your data matrix\n",
    "\n",
    "# Define the number of segments for K-means and FlexMix\n",
    "n_segments_kmeans = 4\n",
    "n_segments_flexmix = 4\n",
    "\n",
    "# Perform K-means clustering\n",
    "kmeans = KMeans(n_clusters=n_segments_kmeans, n_init=10)\n",
    "kmeans_labels = kmeans.fit_predict(mat)\n",
    "\n",
    "# Get the subset of data for FlexMix\n",
    "MD_subset = mat[kmeans_labels == 3]  # Assuming you want cluster 4 from K-means\n",
    "\n",
    "# Perform Gaussian Mixture Model (FlexMix)\n",
    "flexmix = GaussianMixture(n_components=n_segments_flexmix, n_init=10)\n",
    "flexmix_labels = flexmix.fit_predict(MD_subset)\n",
    "\n",
    "# Create a contingency table\n",
    "contingency_table = confusion_matrix(kmeans_labels[kmeans_labels == 3], flexmix_labels)\n",
    "\n",
    "print(contingency_table)\n"
   ]
  },
  {
   "cell_type": "code",
   "execution_count": 178,
   "id": "f50eb8f7",
   "metadata": {},
   "outputs": [
    {
     "name": "stdout",
     "output_type": "stream",
     "text": [
      "[[526   0   0   0]\n",
      " [  0 373   0   0]\n",
      " [  0   0 239   0]\n",
      " [  0   0   0 315]]\n"
     ]
    }
   ],
   "source": [
    "\n",
    "\n",
    "# Set the random seed\n",
    "np.random.seed(1234)\n",
    "\n",
    "\n",
    "# Define the number of segments for K-means and FlexMix\n",
    "n_segments_kmeans = 4\n",
    "n_segments_flexmix = 4\n",
    "\n",
    "# Perform K-means clustering\n",
    "kmeans = KMeans(n_clusters=n_segments_kmeans, n_init=10)\n",
    "kmeans_labels = kmeans.fit_predict(mat)\n",
    "\n",
    "# Perform Gaussian Mixture Model (FlexMix)\n",
    "flexmix_labels = kmeans_labels\n",
    "\n",
    "# Create a contingency table\n",
    "contingency_table = confusion_matrix(kmeans_labels, flexmix_labels)\n",
    "\n",
    "print(contingency_table)\n"
   ]
  },
  {
   "cell_type": "markdown",
   "id": "d7a82303",
   "metadata": {},
   "source": [
    "## Step 6: Profiling Segments\n",
    "\n",
    "The core of the segmentation analysis is complete: market segments have been\n",
    "extracted. Now we need to understand what the four-segment k-means solution\n",
    "means."
   ]
  },
  {
   "cell_type": "code",
   "execution_count": 183,
   "id": "49c78e13",
   "metadata": {},
   "outputs": [
    {
     "name": "stderr",
     "output_type": "stream",
     "text": [
      "No artists with labels found to put in legend.  Note that artists whose label start with an underscore are ignored when legend() is called with no argument.\n"
     ]
    },
    {
     "data": {
      "image/png": "[encoded data removed]",
      "text/plain": [
       "<Figure size 720x432 with 1 Axes>"
      ]
     },
     "metadata": {
      "needs_background": "light"
     },
     "output_type": "display_data"
    }
   ],
   "source": [
    "import numpy as np\n",
    "import matplotlib.pyplot as plt\n",
    "\n",
    "# Define the segment profile data (MD.k4) and marker variables\n",
    "segment_profile_data = []  # Add your segment profile data here as arrays\n",
    "marker_variables = []  # Add your marker variables here\n",
    "\n",
    "# Reverse the order of the variables based on hierarchical clustering\n",
    "ordered_variables = np.array(['disgusting', 'healthy', 'expensive', 'tasty', 'cheap', 'fast', 'greasy', 'fattening', 'spicy', 'convenient', 'yummy'])\n",
    "\n",
    "# Plot the segment profile plot\n",
    "plt.figure(figsize=(10, 6))  # Adjust the figure size as needed\n",
    "\n",
    "# Iterate over each segment and plot the bar chart\n",
    "for i, segment_data in enumerate(segment_profile_data):\n",
    "    plt.bar(range(len(segment_data)), segment_data, label=f'Segment {i+1}')\n",
    "\n",
    "# Highlight marker variables\n",
    "for marker_variable in marker_variables:\n",
    "    plt.axvline(x=marker_variable, color='red', linestyle='--', linewidth=1)\n",
    "\n",
    "# Set the x-axis labels using the ordered variable names\n",
    "plt.xticks(range(len(ordered_variables)), ordered_variables, rotation='vertical')\n",
    "\n",
    "# Set the y-axis label\n",
    "plt.ylabel('Variable Value')\n",
    "\n",
    "# Set the plot title\n",
    "plt.title('Segment Profile Plot')\n",
    "\n",
    "# Add a legend\n",
    "plt.legend()\n",
    "\n",
    "# Show the plot\n",
    "plt.tight_layout()\n",
    "plt.show()\n"
   ]
  },
  {
   "cell_type": "code",
   "execution_count": null,
   "id": "54269521",
   "metadata": {},
   "outputs": [],
   "source": []
  },
  {
   "cell_type": "code",
   "execution_count": null,
   "id": "b2cfb80d",
   "metadata": {},
   "outputs": [],
   "source": []
  },
  {
   "cell_type": "code",
   "execution_count": null,
   "id": "74ed2027",
   "metadata": {},
   "outputs": [],
   "source": []
  }
 ],
 "metadata": {
  "kernelspec": {
   "display_name": "Python 3 (ipykernel)",
   "language": "python",
   "name": "python3"
  },
  "language_info": {
   "codemirror_mode": {
    "name": "ipython",
    "version": 3
   },
   "file_extension": ".py",
   "mimetype": "text/x-python",
   "name": "python",
   "nbconvert_exporter": "python",
   "pygments_lexer": "ipython3",
   "version": "3.9.12"
  }
 },
 "nbformat": 4,
 "nbformat_minor": 5
}
